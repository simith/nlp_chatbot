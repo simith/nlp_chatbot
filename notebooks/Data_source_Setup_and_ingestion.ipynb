{
 "cells": [
  {
   "cell_type": "markdown",
   "id": "bbfa6ccb",
   "metadata": {},
   "source": [
    "**Data sources**"
   ]
  },
  {
   "cell_type": "code",
   "execution_count": 18,
   "id": "6a5d4e1e",
   "metadata": {},
   "outputs": [],
   "source": [
    "fire_file_path='/Users/simith/Downloads/Fire_Department_Calls_for_Service.csv'\n",
    "law_enf_file_path='/Users/simith/Downloads/Law_Enforcement_Dispatched_Calls_for_Service__Closed.csv'"
   ]
  },
  {
   "cell_type": "markdown",
   "id": "78634fc5",
   "metadata": {},
   "source": [
    "**Imports from pyspark**"
   ]
  },
  {
   "cell_type": "code",
   "execution_count": 19,
   "id": "c6afb55c",
   "metadata": {},
   "outputs": [],
   "source": [
    "from pyspark.sql.types import StructField,StructType,IntegerType,StringType,BooleanType\n",
    "import pyspark.sql.functions as F"
   ]
  },
  {
   "cell_type": "markdown",
   "id": "16edab5a",
   "metadata": {},
   "source": [
    "**Print the schema**"
   ]
  },
  {
   "cell_type": "code",
   "execution_count": 20,
   "id": "9e44e525",
   "metadata": {},
   "outputs": [],
   "source": [
    "\n",
    "fire_calls_schema = StructType([StructField('call_number', IntegerType(), True),\n",
    "                     StructField('unit_id', StringType(), True),\n",
    "                     StructField('incident_number', IntegerType(), True),\n",
    "                     StructField('call_type', StringType(), True),                  \n",
    "                     StructField('call_date', StringType(), True),      \n",
    "                     StructField('watch_date', StringType(), True),\n",
    "                     StructField('received_dt_time', StringType(), True),\n",
    "                     StructField('entry_dt_time', StringType(), True),\n",
    "                     StructField('dispatch_dt_time', StringType(), True),       \n",
    "                     StructField('response_dt_time', StringType(), True),       \n",
    "                     StructField('on_scene_date_time', StringType(), True),\n",
    "                     StructField('transport_dt_time', StringType(), True),   \n",
    "                     StructField('hospital_dt_time', StringType(), True),   \n",
    "                     StructField('available_dt_time', StringType(), True),                 \n",
    "                     StructField('call_final_disposition', StringType(), True), \n",
    "                     StructField('address', StringType(), True),       \n",
    "                     StructField('city', StringType(), True),       \n",
    "                     StructField('zip_code', IntegerType(), True),       \n",
    "                     StructField('battalion', StringType(), True),       \n",
    "                     StructField('station_area', StringType(), True),       \n",
    "                     StructField('box', StringType(), True),       \n",
    "                     StructField('original_priority', StringType(), True),\n",
    "                     StructField('priority', IntegerType(), True),\n",
    "                     StructField('final_priority', IntegerType(), True),\n",
    "                     StructField('als_unit', BooleanType(), True),\n",
    "                     StructField('call_type_group', StringType(), True), \n",
    "                     StructField('no_of_alarms', IntegerType(), True),\n",
    "                     StructField('unit_type', StringType(), True), \n",
    "                     StructField('unit_seq_in_call_dispatch', IntegerType(), True),\n",
    "                     StructField('fire_prevention_district', StringType(), True),\n",
    "                     StructField('supervisor_district', StringType(), True),\n",
    "                     StructField('analysis_neighborhood', StringType(), True),\n",
    "                     StructField('row_id', StringType(), True),\n",
    "                     StructField('case_location', StringType(), True),\n",
    "                     StructField('a_neighborhoods',StringType(),True)])"
   ]
  },
  {
   "cell_type": "markdown",
   "id": "7c884851",
   "metadata": {},
   "source": [
    "**Load the Fre calls csv file**"
   ]
  },
  {
   "cell_type": "code",
   "execution_count": 7,
   "id": "8996c843",
   "metadata": {},
   "outputs": [],
   "source": [
    "fire_df = spark.read.format(\"csv\").option(\"header\",\"true\").load(fire_file_path,schema=fire_calls_schema)"
   ]
  },
  {
   "cell_type": "code",
   "execution_count": 12,
   "id": "a389441a",
   "metadata": {},
   "outputs": [],
   "source": [
    "fire_df = fire_df.withColumn(\"year\",F.year(F.to_timestamp('received_dt_time', 'MM/dd/yyyy hh:mm:ss a')))"
   ]
  },
  {
   "cell_type": "markdown",
   "id": "90d85f0b",
   "metadata": {},
   "source": [
    "**Display the new Fire Service calls schema**"
   ]
  },
  {
   "cell_type": "code",
   "execution_count": 55,
   "id": "b709ae27",
   "metadata": {},
   "outputs": [
    {
     "name": "stdout",
     "output_type": "stream",
     "text": [
      "root\n",
      " |-- call_number: integer (nullable = true)\n",
      " |-- unit_id: string (nullable = true)\n",
      " |-- incident_number: integer (nullable = true)\n",
      " |-- call_type: string (nullable = true)\n",
      " |-- call_date: string (nullable = true)\n",
      " |-- watch_date: string (nullable = true)\n",
      " |-- received_dt_time: string (nullable = true)\n",
      " |-- entry_dt_time: string (nullable = true)\n",
      " |-- dispatch_dt_time: string (nullable = true)\n",
      " |-- response_dt_time: string (nullable = true)\n",
      " |-- on_scene_date_time: string (nullable = true)\n",
      " |-- transport_dt_time: string (nullable = true)\n",
      " |-- hospital_dt_time: string (nullable = true)\n",
      " |-- available_dt_time: string (nullable = true)\n",
      " |-- call_final_disposition: string (nullable = true)\n",
      " |-- address: string (nullable = true)\n",
      " |-- city: string (nullable = true)\n",
      " |-- zip_code: integer (nullable = true)\n",
      " |-- battalion: string (nullable = true)\n",
      " |-- station_area: string (nullable = true)\n",
      " |-- box: string (nullable = true)\n",
      " |-- original_priority: string (nullable = true)\n",
      " |-- priority: integer (nullable = true)\n",
      " |-- final_priority: integer (nullable = true)\n",
      " |-- als_unit: boolean (nullable = true)\n",
      " |-- call_type_group: string (nullable = true)\n",
      " |-- no_of_alarms: integer (nullable = true)\n",
      " |-- unit_type: string (nullable = true)\n",
      " |-- unit_seq_in_call_dispatch: integer (nullable = true)\n",
      " |-- fire_prevention_district: string (nullable = true)\n",
      " |-- supervisor_district: string (nullable = true)\n",
      " |-- analysis_neighborhood: string (nullable = true)\n",
      " |-- row_id: string (nullable = true)\n",
      " |-- case_location: string (nullable = true)\n",
      " |-- a_neighborhoods: string (nullable = true)\n",
      " |-- year: integer (nullable = true)\n",
      "\n"
     ]
    }
   ],
   "source": [
    "fire_df.printSchema()"
   ]
  },
  {
   "cell_type": "markdown",
   "id": "68978dca",
   "metadata": {},
   "source": [
    "**Create Bronze table in Delta lake**"
   ]
  },
  {
   "cell_type": "code",
   "execution_count": 14,
   "id": "d6b54832",
   "metadata": {},
   "outputs": [
    {
     "name": "stderr",
     "output_type": "stream",
     "text": [
      "23/07/10 14:38:56 WARN package: Truncated the string representation of a plan since it was too large. This behavior can be adjusted by setting 'spark.sql.debug.maxToStringFields'.\n",
      "23/07/10 14:38:58 WARN MemoryManager: Total allocation exceeds 95.00% (1,020,054,720 bytes) of heap memory\n",
      "Scaling row group sizes to 95.00% for 8 writers\n",
      "23/07/10 14:38:58 WARN MemoryManager: Total allocation exceeds 95.00% (1,020,054,720 bytes) of heap memory\n",
      "Scaling row group sizes to 84.44% for 9 writers\n",
      "23/07/10 14:38:58 WARN MemoryManager: Total allocation exceeds 95.00% (1,020,054,720 bytes) of heap memory\n",
      "Scaling row group sizes to 76.00% for 10 writers\n",
      "23/07/10 14:38:58 WARN CSVHeaderChecker: CSV header does not conform to the schema.\n",
      " Header: Call Number, Unit ID, Incident Number, Call Type, Call Date, Watch Date, Received DtTm, Entry DtTm, Dispatch DtTm, Response DtTm, On Scene DtTm, Transport DtTm, Hospital DtTm, Call Final Disposition, Available DtTm, Address, City, Zipcode of Incident, Battalion, Station Area, Box, Original Priority, Priority, Final Priority, ALS Unit, Call Type Group, Number of Alarms, Unit Type, Unit sequence in call dispatch, Fire Prevention District, Supervisor District, Neighborhooods - Analysis Boundaries, RowID, case_location, Analysis Neighborhoods\n",
      " Schema: call_number, unit_id, incident_number, call_type, call_date, watch_date, received_dt_time, entry_dt_time, dispatch_dt_time, response_dt_time, on_scene_date_time, transport_dt_time, hospital_dt_time, available_dt_time, call_final_disposition, address, city, zip_code, battalion, station_area, box, original_priority, priority, final_priority, als_unit, call_type_group, no_of_alarms, unit_type, unit_seq_in_call_dispatch, fire_prevention_district, supervisor_district, analysis_neighborhood, row_id, case_location, a_neighborhoods\n",
      "Expected: call_number but found: Call Number\n",
      "CSV file: file:///Users/simith/Downloads/Fire_Department_Calls_for_Service.csv\n",
      "23/07/10 14:39:08 WARN MemoryManager: Total allocation exceeds 95.00% (1,020,054,720 bytes) of heap memory\n",
      "Scaling row group sizes to 84.44% for 9 writers\n",
      "23/07/10 14:39:08 WARN MemoryManager: Total allocation exceeds 95.00% (1,020,054,720 bytes) of heap memory\n",
      "Scaling row group sizes to 95.00% for 8 writers\n",
      "23/07/10 14:39:09 WARN MemoryManager: Total allocation exceeds 95.00% (1,020,054,720 bytes) of heap memory\n",
      "Scaling row group sizes to 84.44% for 9 writers\n",
      "23/07/10 14:39:09 WARN MemoryManager: Total allocation exceeds 95.00% (1,020,054,720 bytes) of heap memory\n",
      "Scaling row group sizes to 76.00% for 10 writers\n",
      "23/07/10 14:39:09 WARN MemoryManager: Total allocation exceeds 95.00% (1,020,054,720 bytes) of heap memory\n",
      "Scaling row group sizes to 84.44% for 9 writers\n",
      "23/07/10 14:39:09 WARN MemoryManager: Total allocation exceeds 95.00% (1,020,054,720 bytes) of heap memory\n",
      "Scaling row group sizes to 95.00% for 8 writers\n",
      "23/07/10 14:39:09 WARN MemoryManager: Total allocation exceeds 95.00% (1,020,054,720 bytes) of heap memory\n",
      "Scaling row group sizes to 95.00% for 8 writers\n",
      "23/07/10 14:39:09 WARN MemoryManager: Total allocation exceeds 95.00% (1,020,054,720 bytes) of heap memory\n",
      "Scaling row group sizes to 95.00% for 8 writers\n",
      "23/07/10 14:39:09 WARN MemoryManager: Total allocation exceeds 95.00% (1,020,054,720 bytes) of heap memory\n",
      "Scaling row group sizes to 84.44% for 9 writers\n",
      "23/07/10 14:39:09 WARN MemoryManager: Total allocation exceeds 95.00% (1,020,054,720 bytes) of heap memory\n",
      "Scaling row group sizes to 76.00% for 10 writers\n",
      "23/07/10 14:39:10 WARN MemoryManager: Total allocation exceeds 95.00% (1,020,054,720 bytes) of heap memory\n",
      "Scaling row group sizes to 84.44% for 9 writers\n",
      "23/07/10 14:39:10 WARN MemoryManager: Total allocation exceeds 95.00% (1,020,054,720 bytes) of heap memory\n",
      "Scaling row group sizes to 95.00% for 8 writers\n",
      "                                                                                \r"
     ]
    }
   ],
   "source": [
    "fire_df\\\n",
    "    .write.format(\"delta\")\\\n",
    "    .mode(\"overwrite\")\\\n",
    "    .option(\"overwriteSchema\", \"true\")\\\n",
    "    .save(\"/tmp/data/1_0_assignment/tables/fire_calls\")"
   ]
  },
  {
   "cell_type": "code",
   "execution_count": 56,
   "id": "0bca65b0",
   "metadata": {},
   "outputs": [
    {
     "data": {
      "text/plain": [
       "6256076"
      ]
     },
     "execution_count": 56,
     "metadata": {},
     "output_type": "execute_result"
    }
   ],
   "source": [
    "df_fire_delta_table = (\n",
    "    spark\n",
    "    .read.format(\"delta\")\n",
    "    .load(\"/tmp/data/1_0_assignment/tables/fire_calls\")\n",
    ")\n",
    "\n",
    "df_fire_delta_table.count()"
   ]
  },
  {
   "cell_type": "markdown",
   "id": "c6b2cd86",
   "metadata": {},
   "source": [
    "## Law Enforcement dataset"
   ]
  },
  {
   "cell_type": "code",
   "execution_count": 47,
   "id": "9ecee0ca",
   "metadata": {},
   "outputs": [],
   "source": [
    "law_enf_df = spark.read.format(\"csv\").option(\"header\",\"true\").load(law_enf_file_path)"
   ]
  },
  {
   "cell_type": "markdown",
   "id": "90f4428f",
   "metadata": {},
   "source": [
    "**Create Bronze table**"
   ]
  },
  {
   "cell_type": "markdown",
   "id": "38ef823f",
   "metadata": {},
   "source": [
    "**Create Silver table here, ingest into data warehouse for querying from applications**"
   ]
  },
  {
   "cell_type": "markdown",
   "id": "58cbf64a",
   "metadata": {},
   "source": [
    "**Ingest gold table into Data warehouse**"
   ]
  },
  {
   "cell_type": "code",
   "execution_count": 48,
   "id": "b120b974",
   "metadata": {},
   "outputs": [],
   "source": [
    "law_enf_df=law_enf_df.na.fill(value='UNKNOWN',subset=[\"police_district\"])\n",
    "law_enf_df_001 = law_enf_df.select('analysis_neighborhood').distinct()\n"
   ]
  },
  {
   "cell_type": "code",
   "execution_count": 49,
   "id": "19fd05b8",
   "metadata": {},
   "outputs": [
    {
     "name": "stdout",
     "output_type": "stream",
     "text": [
      "root\n",
      " |-- cad_number: string (nullable = true)\n",
      " |-- dup_cad_number: string (nullable = true)\n",
      " |-- pd_incident_report: string (nullable = true)\n",
      " |-- received_datetime: string (nullable = true)\n",
      " |-- entry_datetime: string (nullable = true)\n",
      " |-- dispatch_datetime: string (nullable = true)\n",
      " |-- enroute_datetime: string (nullable = true)\n",
      " |-- onscene_datetime: string (nullable = true)\n",
      " |-- close_datetime: string (nullable = true)\n",
      " |-- call_type_original: string (nullable = true)\n",
      " |-- call_type_original_desc: string (nullable = true)\n",
      " |-- call_type_original_notes: string (nullable = true)\n",
      " |-- call_type_final: string (nullable = true)\n",
      " |-- call_type_final_desc: string (nullable = true)\n",
      " |-- call_type_final_notes: string (nullable = true)\n",
      " |-- priority_original: string (nullable = true)\n",
      " |-- priority_final: string (nullable = true)\n",
      " |-- agency: string (nullable = true)\n",
      " |-- disposition: string (nullable = true)\n",
      " |-- onview_flag: string (nullable = true)\n",
      " |-- sensitive_call: string (nullable = true)\n",
      " |-- intersection_name: string (nullable = true)\n",
      " |-- intersection_id: string (nullable = true)\n",
      " |-- intersection_point: string (nullable = true)\n",
      " |-- supervisor_district: string (nullable = true)\n",
      " |-- analysis_neighborhood: string (nullable = true)\n",
      " |-- police_district: string (nullable = false)\n",
      " |-- data_as_of: string (nullable = true)\n",
      " |-- data_updated_at: string (nullable = true)\n",
      " |-- data_loaded_at: string (nullable = true)\n",
      " |-- source_filename: string (nullable = true)\n",
      " |-- Neighborhoods: string (nullable = true)\n",
      " |-- SF Find Neighborhoods: string (nullable = true)\n",
      " |-- Current Police Districts: string (nullable = true)\n",
      " |-- Current Supervisor Districts: string (nullable = true)\n",
      " |-- Analysis Neighborhoods: string (nullable = true)\n",
      "\n"
     ]
    }
   ],
   "source": [
    "law_enf_df.printSchema()"
   ]
  },
  {
   "cell_type": "code",
   "execution_count": 50,
   "id": "92547b09",
   "metadata": {},
   "outputs": [],
   "source": [
    "law_enf_df = law_enf_df.withColumnRenamed('SF Find Neighborhoods','sf_neighbourhoods').\\\n",
    "            withColumnRenamed('Current Police Districts','curr_police_district').\\\n",
    "            withColumnRenamed('Current Supervisor Districts','curr_supervisor_district').\\\n",
    "            withColumnRenamed('Analysis Neighborhoods','analysis_neighborhood2').\\\n",
    "            withColumnRenamed('Neighborhoods','neighborhood')\n",
    "\n",
    "law_enf_df = law_enf_df.withColumn(\"year\",F.year(F.to_timestamp('received_datetime', 'MM/dd/yyyy hh:mm:ss a')))\n",
    "            "
   ]
  },
  {
   "cell_type": "code",
   "execution_count": 51,
   "id": "49930999",
   "metadata": {},
   "outputs": [
    {
     "name": "stdout",
     "output_type": "stream",
     "text": [
      "root\n",
      " |-- cad_number: string (nullable = true)\n",
      " |-- dup_cad_number: string (nullable = true)\n",
      " |-- pd_incident_report: string (nullable = true)\n",
      " |-- received_datetime: string (nullable = true)\n",
      " |-- entry_datetime: string (nullable = true)\n",
      " |-- dispatch_datetime: string (nullable = true)\n",
      " |-- enroute_datetime: string (nullable = true)\n",
      " |-- onscene_datetime: string (nullable = true)\n",
      " |-- close_datetime: string (nullable = true)\n",
      " |-- call_type_original: string (nullable = true)\n",
      " |-- call_type_original_desc: string (nullable = true)\n",
      " |-- call_type_original_notes: string (nullable = true)\n",
      " |-- call_type_final: string (nullable = true)\n",
      " |-- call_type_final_desc: string (nullable = true)\n",
      " |-- call_type_final_notes: string (nullable = true)\n",
      " |-- priority_original: string (nullable = true)\n",
      " |-- priority_final: string (nullable = true)\n",
      " |-- agency: string (nullable = true)\n",
      " |-- disposition: string (nullable = true)\n",
      " |-- onview_flag: string (nullable = true)\n",
      " |-- sensitive_call: string (nullable = true)\n",
      " |-- intersection_name: string (nullable = true)\n",
      " |-- intersection_id: string (nullable = true)\n",
      " |-- intersection_point: string (nullable = true)\n",
      " |-- supervisor_district: string (nullable = true)\n",
      " |-- analysis_neighborhood: string (nullable = true)\n",
      " |-- police_district: string (nullable = false)\n",
      " |-- data_as_of: string (nullable = true)\n",
      " |-- data_updated_at: string (nullable = true)\n",
      " |-- data_loaded_at: string (nullable = true)\n",
      " |-- source_filename: string (nullable = true)\n",
      " |-- neighborhood: string (nullable = true)\n",
      " |-- sf_neighbourhoods: string (nullable = true)\n",
      " |-- curr_police_district: string (nullable = true)\n",
      " |-- curr_supervisor_district: string (nullable = true)\n",
      " |-- analysis_neighborhood2: string (nullable = true)\n",
      " |-- year: integer (nullable = true)\n",
      "\n"
     ]
    }
   ],
   "source": [
    "law_enf_df.printSchema()"
   ]
  },
  {
   "cell_type": "markdown",
   "id": "d4bcfe66",
   "metadata": {},
   "source": [
    "**Save Law Enforcement data to Bronze table (law_enf_calls)**"
   ]
  },
  {
   "cell_type": "code",
   "execution_count": 53,
   "id": "a5da310a",
   "metadata": {},
   "outputs": [
    {
     "name": "stderr",
     "output_type": "stream",
     "text": [
      "23/07/10 16:06:51 WARN MemoryManager: Total allocation exceeds 95.00% (1,020,054,720 bytes) of heap memory\n",
      "Scaling row group sizes to 95.00% for 8 writers\n",
      "23/07/10 16:06:51 WARN MemoryManager: Total allocation exceeds 95.00% (1,020,054,720 bytes) of heap memory\n",
      "Scaling row group sizes to 84.44% for 9 writers\n",
      "23/07/10 16:06:51 WARN MemoryManager: Total allocation exceeds 95.00% (1,020,054,720 bytes) of heap memory\n",
      "Scaling row group sizes to 76.00% for 10 writers\n",
      "23/07/10 16:06:59 WARN MemoryManager: Total allocation exceeds 95.00% (1,020,054,720 bytes) of heap memory\n",
      "Scaling row group sizes to 84.44% for 9 writers\n",
      "23/07/10 16:06:59 WARN MemoryManager: Total allocation exceeds 95.00% (1,020,054,720 bytes) of heap memory\n",
      "Scaling row group sizes to 95.00% for 8 writers\n",
      "23/07/10 16:06:59 WARN MemoryManager: Total allocation exceeds 95.00% (1,020,054,720 bytes) of heap memory\n",
      "Scaling row group sizes to 95.00% for 8 writers\n",
      "                                                                                \r"
     ]
    }
   ],
   "source": [
    "law_enf_df\\\n",
    "    .write.format(\"delta\")\\\n",
    "    .mode(\"overwrite\")\\\n",
    "    .option(\"overwriteSchema\", \"true\")\\\n",
    "    .save(\"/tmp/data/1_0_assignment/tables/law_enf_calls\")"
   ]
  },
  {
   "cell_type": "code",
   "execution_count": 8,
   "id": "5b3dbde3",
   "metadata": {},
   "outputs": [
    {
     "data": {
      "text/plain": [
       "6256076"
      ]
     },
     "execution_count": 8,
     "metadata": {},
     "output_type": "execute_result"
    }
   ],
   "source": [
    "df_fire_delta_table = (\n",
    "    spark\n",
    "    .read.format(\"delta\")\n",
    "    .load(\"/tmp/data/1_0_assignment/tables/fire_calls\")\n",
    ")\n",
    "\n",
    "df_fire_delta_table.count()"
   ]
  },
  {
   "cell_type": "code",
   "execution_count": 54,
   "id": "21fa6a30",
   "metadata": {},
   "outputs": [
    {
     "data": {
      "text/plain": [
       "5202343"
      ]
     },
     "execution_count": 54,
     "metadata": {},
     "output_type": "execute_result"
    }
   ],
   "source": [
    "df_law_enf_delta_table = (\n",
    "    spark\n",
    "    .read.format(\"delta\")\n",
    "    .load(\"/tmp/data/1_0_assignment/tables/law_enf_calls\")\n",
    ")\n",
    "\n",
    "df_law_enf_delta_table.count()"
   ]
  },
  {
   "cell_type": "markdown",
   "id": "8b8cad0c",
   "metadata": {},
   "source": [
    "### Create data set for querying from applications for Fire and Law Enforcement"
   ]
  },
  {
   "cell_type": "markdown",
   "id": "5197e081",
   "metadata": {},
   "source": [
    "**Prepare the fire call records as per the App requirements and ingest into warehouse**"
   ]
  },
  {
   "cell_type": "code",
   "execution_count": 11,
   "id": "02f0d83e",
   "metadata": {},
   "outputs": [
    {
     "name": "stderr",
     "output_type": "stream",
     "text": [
      "                                                                                \r"
     ]
    }
   ],
   "source": [
    "fire_select_list=[F.col('call_number').alias('caller_phone_number'),F.col('call_type').alias('incident_type'),\\\n",
    "                  'zip_code',F.col('analysis_neighborhood').alias('neighbourhood'),\\\n",
    "                  F.col('received_dt_time').alias('received_dt_time'),\\\n",
    "                  F.year(F.to_timestamp('received_dt_time', 'MM/dd/yyyy hh:mm:ss a')).alias('year')]\n",
    "fire_apps_df = df_fire_delta_table.select(fire_select_list)\n",
    "fire_apps_df = fire_apps_df.withColumn('call_received_date',\\\n",
    "                                       F.to_date(F.col('received_dt_time'), 'MM/dd/yyyy hh:mm:ss a'))\\\n",
    "                                       .drop(F.col('received_dt_time'))\n",
    "\n",
    "spark = SparkSession \\\n",
    "    .builder \\\n",
    "    .appName(\"JDBC Writer App\") \\\n",
    "    .config(\"spark.jars\", \"/Users/simith/Downloads/postgresql-42.6.0.jar\") \\\n",
    "    .getOrCreate()\n",
    "connection_str=\"jdbc:postgresql://localhost:5432/test\"\n",
    "table=\"fire_calls\"\n",
    "properties = {\"user\":\"postgres\", \"password\":\"postgres\", \"driver\": \"org.postgresql.Driver\"}\n",
    "fire_apps_df.write.jdbc(url=connection_str, table=table, properties=properties)"
   ]
  },
  {
   "cell_type": "markdown",
   "id": "586a6a57",
   "metadata": {},
   "source": [
    "**Prepare the Law enforcement call records as per the App requirements and ingest into warehouse**"
   ]
  },
  {
   "cell_type": "code",
   "execution_count": 12,
   "id": "7155e38a",
   "metadata": {},
   "outputs": [
    {
     "name": "stderr",
     "output_type": "stream",
     "text": [
      "                                                                                \r"
     ]
    }
   ],
   "source": [
    "law_enf_select_list=[F.col('cad_number').alias('incident_number'),F.col('call_type_final_desc').alias('incident_type'),\\\n",
    "             'received_datetime','close_datetime',\\\n",
    "                     F.year(F.to_timestamp('received_datetime', 'MM/dd/yyyy hh:mm:ss a')).alias('year'),\\\n",
    "                     F.col('police_district').alias('district'),\\\n",
    "                     F.col('analysis_neighborhood').alias('neighbourhood')]\n",
    "law_enf_apps_df = df_law_enf_delta_table.select(law_enf_select_list)\n",
    "law_enf_apps_df = law_enf_apps_df.withColumn('call_received_date',\\\n",
    "                                       F.to_date(F.col('received_datetime'), 'MM/dd/yyyy hh:mm:ss a'))\n",
    "                                     \n",
    "\n",
    "spark = SparkSession \\\n",
    "    .builder \\\n",
    "    .appName(\"JDBC Writer App\") \\\n",
    "    .config(\"spark.jars\", \"/Users/simith/Downloads/postgresql-42.6.0.jar\") \\\n",
    "    .getOrCreate()\n",
    "connection_str=\"jdbc:postgresql://localhost:5432/test\"\n",
    "table=\"law_enforcement_calls\"\n",
    "properties = {\"user\":\"postgres\", \"password\":\"postgres\", \"driver\": \"org.postgresql.Driver\"}\n",
    "law_enf_apps_df.write.jdbc(url=connection_str, table=table, properties=properties)"
   ]
  },
  {
   "cell_type": "code",
   "execution_count": 76,
   "id": "55926aa9",
   "metadata": {},
   "outputs": [
    {
     "name": "stdout",
     "output_type": "stream",
     "text": [
      "+-------------------+-------------+--------+-------------+-----------------------+----+------+\n",
      "|caller_phone_number|incident_type|zip_code|neighbourhood|call_received_date_time|year|n_date|\n",
      "+-------------------+-------------+--------+-------------+-----------------------+----+------+\n",
      "|221210313          |Outside Fire |94102   |Hayes Valley |05/01/2022 02:58:25 AM |2022|null  |\n",
      "|220190150          |Alarms       |94107   |Potrero Hill |01/19/2022 01:42:12 AM |2022|null  |\n",
      "|211233271          |Alarms       |94110   |Mission      |05/03/2021 09:28:12 PM |2021|null  |\n",
      "|212933533          |Alarms       |94102   |Tenderloin   |10/20/2021 10:08:47 PM |2021|null  |\n",
      "|221202543          |Alarms       |94109   |Russian Hill |04/30/2022 06:35:58 PM |2022|null  |\n",
      "+-------------------+-------------+--------+-------------+-----------------------+----+------+\n",
      "\n"
     ]
    },
    {
     "name": "stderr",
     "output_type": "stream",
     "text": [
      "23/07/08 11:03:48 WARN CSVHeaderChecker: CSV header does not conform to the schema.\n",
      " Header: Call Number, Call Type, Received DtTm, Zipcode of Incident, Neighborhooods - Analysis Boundaries\n",
      " Schema: call_number, call_type, received_dt_time, zip_code, neighbourhoods\n",
      "Expected: call_number but found: Call Number\n",
      "CSV file: file:///Users/simith/Downloads/Fire_Department_Calls_for_Service.csv\n"
     ]
    }
   ],
   "source": [
    "fire_apps_df.withColumn(\"n_date\",F.to_date(F.col('call_received_date_time'))).limit(5).show(truncate=False)"
   ]
  },
  {
   "cell_type": "code",
   "execution_count": 77,
   "id": "f98a38de",
   "metadata": {},
   "outputs": [
    {
     "name": "stdout",
     "output_type": "stream",
     "text": [
      "+----------+\n",
      "|      date|\n",
      "+----------+\n",
      "|05/01/2022|\n",
      "|01/19/2022|\n",
      "|05/03/2021|\n",
      "|10/20/2021|\n",
      "|04/30/2022|\n",
      "|05/03/2021|\n",
      "|07/13/2021|\n",
      "|10/20/2021|\n",
      "|04/30/2022|\n",
      "|07/13/2021|\n",
      "|01/18/2022|\n",
      "|01/11/2022|\n",
      "|01/11/2022|\n",
      "|01/11/2022|\n",
      "|01/18/2022|\n",
      "|04/30/2022|\n",
      "|07/13/2021|\n",
      "|01/18/2022|\n",
      "|07/28/2022|\n",
      "|07/28/2022|\n",
      "+----------+\n",
      "only showing top 20 rows\n",
      "\n"
     ]
    },
    {
     "name": "stderr",
     "output_type": "stream",
     "text": [
      "23/07/08 11:05:09 WARN CSVHeaderChecker: CSV header does not conform to the schema.\n",
      " Header: Received DtTm\n",
      " Schema: received_dt_time\n",
      "Expected: received_dt_time but found: Received DtTm\n",
      "CSV file: file:///Users/simith/Downloads/Fire_Department_Calls_for_Service.csv\n"
     ]
    }
   ],
   "source": [
    "fire_apps_df.select(F.date_format(F.to_date(fire_apps_df.call_received_date_time, 'MM/dd/yyyy hh:mm:ss a'), \"MM/dd/yyyy\").alias('date')).show()"
   ]
  },
  {
   "cell_type": "markdown",
   "id": "4c8e0317",
   "metadata": {},
   "source": [
    "**Find the average response time for both law enforcement and fire departments**"
   ]
  },
  {
   "cell_type": "code",
   "execution_count": null,
   "id": "5c7c31c5",
   "metadata": {},
   "outputs": [],
   "source": []
  },
  {
   "cell_type": "code",
   "execution_count": null,
   "id": "062428c1",
   "metadata": {},
   "outputs": [],
   "source": [
    "**Find the average response time for both law enforcement and fire departments**"
   ]
  }
 ],
 "metadata": {
  "kernelspec": {
   "display_name": "Python 3 (ipykernel)",
   "language": "python",
   "name": "python3"
  },
  "language_info": {
   "codemirror_mode": {
    "name": "ipython",
    "version": 3
   },
   "file_extension": ".py",
   "mimetype": "text/x-python",
   "name": "python",
   "nbconvert_exporter": "python",
   "pygments_lexer": "ipython3",
   "version": "3.10.9"
  }
 },
 "nbformat": 4,
 "nbformat_minor": 5
}
